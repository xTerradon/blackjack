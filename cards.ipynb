{
 "cells": [
  {
   "cell_type": "code",
   "execution_count": null,
   "metadata": {},
   "outputs": [],
   "source": [
    "SUITS = [\"♠\", \"♥\", \"♦\", \"♣\"]\n",
    "RANKS = [\"A\", \"2\", \"3\", \"4\", \"5\", \"6\", \"7\", \"8\", \"9\", \"10\", \"J\", \"Q\", \"K\"]\n",
    "VALUES = [11, 2, 3, 4, 5, 6, 7, 8, 9, 10, 10, 10, 10]"
   ]
  },
  {
   "cell_type": "code",
   "execution_count": null,
   "metadata": {},
   "outputs": [],
   "source": [
    "class Deck():\n",
    "    def __init__(self, number_decks=6):\n",
    "        self.cards = [Card(a[0],a[1]) for a in np.transpose([np.repeat(RANKS, len(SUITS)), np.tile(SUITS, len(RANKS))])] * number_decks\n",
    "    \n",
    "    def shuffle(self):\n",
    "        np.random.shuffle(self.cards)\n",
    "    \n",
    "    def deal(self):\n",
    "        return self.cards.pop(0)\n",
    "    \n",
    "    def __str__(self):\n",
    "        return str(self.cards)\n",
    "    \n",
    "    def __len__(self):\n",
    "        return len(self.cards)\n",
    "    \n",
    "    def __repr__(self):\n",
    "        return f\"<Deck: {len(self.cards)} cards>\""
   ]
  },
  {
   "cell_type": "code",
   "execution_count": null,
   "metadata": {},
   "outputs": [],
   "source": [
    "class Card:\n",
    "    def __init__(self, rank, suit):\n",
    "        self.suit = suit\n",
    "        self.rank = rank\n",
    "        self.value = VALUES[RANKS.index(rank)]\n",
    "    \n",
    "    def __int__(self):\n",
    "        return self.value\n",
    "    \n",
    "    def __str__(self):\n",
    "        return self.rank + self.suit\n",
    "    \n",
    "    def __repr__(self):\n",
    "        return f\"<CARD: {self.rank}{self.suit} ({self.value})>\""
   ]
  }
 ],
 "metadata": {
  "language_info": {
   "name": "python"
  },
  "orig_nbformat": 4
 },
 "nbformat": 4,
 "nbformat_minor": 2
}
