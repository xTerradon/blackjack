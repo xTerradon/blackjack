{
 "cells": [
  {
   "cell_type": "code",
   "execution_count": 2,
   "metadata": {},
   "outputs": [],
   "source": [
    "from IPython.display import display, clear_output\n",
    "import ipywidgets as widgets"
   ]
  },
  {
   "cell_type": "code",
   "execution_count": null,
   "metadata": {},
   "outputs": [],
   "source": [
    "label_layout = {'width':'1000px'}"
   ]
  },
  {
   "cell_type": "code",
   "execution_count": 7,
   "metadata": {},
   "outputs": [
    {
     "data": {
      "text/plain": [
       "['_model_module',\n",
       " '_model_module_version',\n",
       " '_model_name',\n",
       " '_view_count',\n",
       " '_view_module',\n",
       " '_view_module_version',\n",
       " '_view_name',\n",
       " 'background',\n",
       " 'description_width',\n",
       " 'font_family',\n",
       " 'font_size',\n",
       " 'font_style',\n",
       " 'font_variant',\n",
       " 'font_weight',\n",
       " 'text_color',\n",
       " 'text_decoration']"
      ]
     },
     "execution_count": 7,
     "metadata": {},
     "output_type": "execute_result"
    }
   ],
   "source": [
    "widgets.Label().style.keys"
   ]
  },
  {
   "cell_type": "code",
   "execution_count": null,
   "metadata": {},
   "outputs": [],
   "source": [
    "class Visualization:\n",
    "    def __init__(self):\n",
    "        self.setup()\n",
    "        with self.output:\n",
    "            self.game = Game(self)\n",
    "\n",
    "    def setup(self):\n",
    "        self.deal_button = widgets.Button(description=\"deal\")\n",
    "        self.deal_button.on_click(self.deal)\n",
    "\n",
    "        self.reset_button = widgets.Button(description=\"reset\", disabled=True)\n",
    "        self.reset_button.on_click(self.reset)\n",
    "\n",
    "        self.deck_size_label = widgets.Label(value=\"- cards left\", align=\"right\")\n",
    "\n",
    "        self.player_cards_description = widgets.Label(value=\"Player cards:\", style={\"width\": \"100px\"})\n",
    "        self.player_cards_label = widgets.Label(value=\"-\", style={\"font_size\": \"150%\"})\n",
    "        self.player_cards_box = widgets.HBox([self.player_cards_description, self.player_cards_label])\n",
    "\n",
    "        self.dealer_cards_description = widgets.Label(value=\"Dealer cards:\", style={\"width\": \"100px\"})\n",
    "        self.dealer_cards_label = widgets.Label(value=\"-\", style={\"font_size\": \"150%\"})\n",
    "        self.dealer_cards_box = widgets.HBox([self.dealer_cards_description, self.dealer_cards_label])\n",
    "\n",
    "\n",
    "        self.hit_button = widgets.Button(description=\"hit\", disabled=True)\n",
    "        self.stand_button = widgets.Button(description=\"stand\", disabled=True)\n",
    "        self.double_button = widgets.Button(description=\"double\", disabled=True)\n",
    "        self.split_button = widgets.Button(description=\"split\", disabled=True)\n",
    "\n",
    "        \n",
    "        self.output = widgets.Output()\n",
    "\n",
    "        self.menu_box = widgets.HBox([self.deal_button, self.reset_button, self.deck_size_label])\n",
    "\n",
    "        self.action_box = widgets.HBox([self.hit_button, self.stand_button, self.double_button, self.split_button])\n",
    "\n",
    "        display(self.menu_box, self.action_box, self.player_cards_box, self.dealer_cards_box, self.output)\n",
    "\n",
    "    def deal(self, b):\n",
    "        self.reset_button.disabled = False\n",
    "        self.deal_button.disabled = True\n",
    "        with self.output:\n",
    "            self.game.play_round()\n",
    "  \n",
    "    def reset(self, b):\n",
    "        with self.output:\n",
    "            self.game = Game(self)\n",
    "            clear_output()\n",
    "        self.player_cards_label.value = \"-\"\n",
    "        self.dealer_cards_label.value = \"-\"\n",
    "        self.deck_size_label.value = \"- cards left\"\n",
    "        self.reset_button.disabled = True\n",
    "        self.deal_button.disabled = False\n",
    "        self.reset_colors()\n",
    "        self.disable_action_buttons()\n",
    "        \n",
    "    \n",
    "    def disable_action_buttons(self):\n",
    "        self.hit_button.disabled = True\n",
    "        self.stand_button.disabled = True\n",
    "        self.double_button.disabled = True\n",
    "        self.split_button.disabled = True\n",
    "    \n",
    "    \n",
    "    def reset_colors(self):\n",
    "        self.player_cards_label.style.text_color = 'black'\n",
    "        self.dealer_cards_label.style.text_color = 'black'"
   ]
  }
 ],
 "metadata": {
  "kernelspec": {
   "display_name": "Python 3",
   "language": "python",
   "name": "python3"
  },
  "language_info": {
   "codemirror_mode": {
    "name": "ipython",
    "version": 3
   },
   "file_extension": ".py",
   "mimetype": "text/x-python",
   "name": "python",
   "nbconvert_exporter": "python",
   "pygments_lexer": "ipython3",
   "version": "3.11.3"
  },
  "orig_nbformat": 4
 },
 "nbformat": 4,
 "nbformat_minor": 2
}
