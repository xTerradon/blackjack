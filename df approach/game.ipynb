{
 "cells": [
  {
   "cell_type": "code",
   "execution_count": null,
   "metadata": {},
   "outputs": [],
   "source": [
    "# copy and modify the best of statistics.ipynb"
   ]
  },
  {
   "cell_type": "markdown",
   "metadata": {},
   "source": [
    "# Steps\n",
    "1. empty hand with 1.0 chance\n",
    "+ or other hands: determine whih step to take next (e.g. plyer finished, split hand etc.)\n",
    "2. deal random cards with chances\n",
    "+ combine same hands (5,8 and 8,5)\n",
    "+ finish blackjacks\n",
    "3. get all possible moves for player, keep the drawn cards saved\n",
    "+ vectorized adding (with diag)\n",
    "+ [FALSE] aggregate bust hands (e.g. a 18 only needs 11,2,3 and 4+ can be immediately seen as a bust hand)\n",
    "4. get all possible moves for dealer\n",
    "+ aggregate deck and dealer info as input: same deck info means same dealer possibilities\n",
    "+ after getting each possible score from deck info, calculate win lose and push ratios for each player hand\n",
    "+ (same deck info mean same hand? then even better)\n",
    "5. for each drawn hand starting from the back, determine the best move (hit or stand)\n",
    "+ save best moves for possible combinations, use them on all possible instead of recaculating\n",
    "+ dont include obvious cases (e.g. stand on 21, hit under 12)\n",
    "6. determine expected return for hands as far back as you like (start of game, dealt hands, dealer plays)"
   ]
  }
 ],
 "metadata": {
  "language_info": {
   "name": "python"
  },
  "orig_nbformat": 4
 },
 "nbformat": 4,
 "nbformat_minor": 2
}
