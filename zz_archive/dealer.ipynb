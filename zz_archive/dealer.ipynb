{
 "cells": [
  {
   "cell_type": "code",
   "execution_count": null,
   "metadata": {},
   "outputs": [],
   "source": [
    "import matplotlib.pyplot as plt\n",
    "import numpy as np"
   ]
  },
  {
   "cell_type": "code",
   "execution_count": null,
   "metadata": {},
   "outputs": [],
   "source": [
    "cards = np.arange(2,12)\n",
    "cnum = cards.shape[0]\n",
    "cards"
   ]
  },
  {
   "cell_type": "code",
   "execution_count": null,
   "metadata": {},
   "outputs": [],
   "source": [
    "aces = (cards == 11).astype(int)\n",
    "aces"
   ]
  },
  {
   "cell_type": "code",
   "execution_count": null,
   "metadata": {},
   "outputs": [],
   "source": [
    "hands = np.array([[0,0]])\n",
    "hands"
   ]
  },
  {
   "cell_type": "code",
   "execution_count": null,
   "metadata": {},
   "outputs": [],
   "source": [
    "standing = np.empty((1,0))\n",
    "standing"
   ]
  },
  {
   "cell_type": "code",
   "execution_count": null,
   "metadata": {},
   "outputs": [],
   "source": [
    "# initialize arr for new hands\n",
    "new_hands = np.zeros((hands.shape[0]*cnum, hands.shape[1]+1), dtype=int)\n",
    "\n",
    "# update hands\n",
    "new_hands[:, :hands.shape[-1]] = np.tile(hands, (cnum,1)) # old hands\n",
    "new_hands[:, hands.shape[-1]] = np.tile(cards.reshape(-1,1), hands.shape[0]).flatten() # new card\n",
    "new_hands[:, 1] += np.tile(aces.reshape(-1,1), hands.shape[0]).flatten() # ace drawn \n",
    "new_hands[:, 0] = new_hands[:,2:].sum(axis=-1) # calc score\n",
    "print(new_hands)\n",
    "\n",
    "ace_use = (new_hands[:,0] > 21) & (new_hands[:,1] > 0)\n",
    "print(\"ace use\", new_hands[ace_use,:])\n",
    "\n",
    "a = np.argwhere(new_hands[ace_use,2:] == 11)\n",
    "unique_i = np.unique(a[:,0], return_index=True)[1]\n",
    "new_hands[ace_use, :2] -= [10,1]\n",
    "new_hands[ace_use, 2+a[unique_i,1]] = 1\n",
    "\n",
    "stand = new_hands[:,0] >= 17\n",
    "hands = new_hands[~stand]\n",
    "\n",
    "print(\"standing\", new_hands[stand])\n",
    "\n",
    "print(hands[hands[:,0].argsort()])\n"
   ]
  },
  {
   "cell_type": "code",
   "execution_count": null,
   "metadata": {},
   "outputs": [],
   "source": [
    "plt.hist(hands.sum(axis=1), bins=12)"
   ]
  },
  {
   "cell_type": "code",
   "execution_count": null,
   "metadata": {},
   "outputs": [],
   "source": []
  }
 ],
 "metadata": {
  "kernelspec": {
   "display_name": "Python 3",
   "language": "python",
   "name": "python3"
  },
  "language_info": {
   "codemirror_mode": {
    "name": "ipython",
    "version": 3
   },
   "file_extension": ".py",
   "mimetype": "text/x-python",
   "name": "python",
   "nbconvert_exporter": "python",
   "pygments_lexer": "ipython3",
   "version": "3.12.0"
  },
  "orig_nbformat": 4
 },
 "nbformat": 4,
 "nbformat_minor": 2
}
