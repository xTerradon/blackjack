{
 "cells": [
  {
   "cell_type": "code",
   "execution_count": null,
   "metadata": {},
   "outputs": [],
   "source": [
    "import pandas as pd\n",
    "import numpy as np\n",
    "\n",
    "import matplotlib.pyplot as plt\n",
    "from blackjack_helper import *\n",
    "\n",
    "pd.set_option('display.width', 1000)"
   ]
  },
  {
   "cell_type": "markdown",
   "metadata": {},
   "source": [
    "# Card Translation\n",
    "For efficient calculation, the cards will be translated to integers.\n",
    "| 2 | 3 | 4 | 5 | 6 | 7 | 8 | 9 | 10 | J | Q | K | A |\n",
    "| - | ----------|----------| ----------| ----------| ----------| ----------| ----------| ----------| ----------| ----------| ----------| ----------|\n",
    "| 2 | 3 | 4 | 5 | 6 | 7 | 8 | 9 | 10 | 10 | 10 | 10 | 11 |\n",
    "\n",
    "Every Face Card can simple be treated as 10, because they do not affect play.  \n",
    "The Ace will be treated as 11, and will be reduced to 1 if the hand value exceeds 21."
   ]
  },
  {
   "cell_type": "code",
   "execution_count": null,
   "metadata": {},
   "outputs": [],
   "source": [
    "deck = get_deck()\n",
    "print_deck(deck)"
   ]
  },
  {
   "cell_type": "code",
   "execution_count": null,
   "metadata": {},
   "outputs": [],
   "source": [
    "plot_deck(deck)"
   ]
  },
  {
   "cell_type": "markdown",
   "metadata": {},
   "source": [
    "# The Dealer\n",
    "The dealer has a certain set of rules, by which he has to play the game. This makes it possible to determine the probabilities of the dealer's hand based on the card distribution. To efficiently generate those probabilities, we will first determine all possible games for the dealer.\n",
    "\n",
    "To do this, we will use a numpy array, where the first column denotes the number of aces in the hand, and all other columns denote the drawn card (0 meaning no card drawn).\n",
    "After each draw, we will check if the dealer will terminate the hands, and remove them.\n",
    "There will be no probability calculation, as those depend on the card distribution."
   ]
  },
  {
   "cell_type": "code",
   "execution_count": null,
   "metadata": {},
   "outputs": [],
   "source": [
    "cards = [11,5]\n",
    "\n",
    "possibilities = get_dealer_possibilities(cards)\n",
    "# plot_dealer_possibilities(cards)\n",
    "possibilities.T"
   ]
  },
  {
   "cell_type": "markdown",
   "metadata": {},
   "source": [
    "# Dealer Score Probabilities\n",
    "Remember that those numbers represent the number of possible games leading to that score, NOT the actual probabilities of that Score occurring. In order to do this, we will need to implement the card distribution.\n",
    "\n",
    "For that we simply get all possible games for the dealer, and then calculate the probabilities of each game occuring."
   ]
  },
  {
   "cell_type": "code",
   "execution_count": null,
   "metadata": {},
   "outputs": [],
   "source": [
    "cards = []\n",
    "deck = get_deck()\n",
    "\n",
    "possible_hands_prob = get_dealer_hand_probabilities(cards, deck)\n",
    "possible_hands_prob.sort_values(\"Probability\", ascending=False)[:3]"
   ]
  },
  {
   "cell_type": "code",
   "execution_count": null,
   "metadata": {},
   "outputs": [],
   "source": [
    "dealer_score_probabilities = get_dealer_score_probabilities(cards, deck)\n",
    "plot_dealer_score_probabilities(cards, deck)\n",
    "dealer_score_probabilities.T"
   ]
  },
  {
   "cell_type": "markdown",
   "metadata": {},
   "source": [
    "In order to see how the probabilities change with a different deck, we will simulate another deck with less 10s."
   ]
  },
  {
   "cell_type": "code",
   "execution_count": null,
   "metadata": {},
   "outputs": [],
   "source": [
    "deck = get_deck()\n",
    "deck[0] /= 2 # half the amount of 10s\n",
    "plot_dealer_score_probabilities(cards, deck)"
   ]
  },
  {
   "cell_type": "markdown",
   "metadata": {},
   "source": [
    "# The Hands\n",
    "In order to calculate the best moves for a player, we will have to implement the different choices that the player can make. Let's first clarify how a game can be represented.\n",
    "\n",
    "Before the player's turn starts, the dealer gets one face up and one face down card. The face-up card gives us information we have to consider when asessing the best moves.\n",
    "\n",
    "Each game has to include the following information:\n",
    "- The Deck\n",
    "- The Dealer's Face-Up Card\n",
    "- The Player's drawn cards\n",
    "The Player's drawn cards will be represented by its score and the number of unused aces. We will call this object a \"Hand\"."
   ]
  },
  {
   "cell_type": "code",
   "execution_count": null,
   "metadata": {},
   "outputs": [],
   "source": [
    "hand = get_hand()\n",
    "print_hand(hand)"
   ]
  },
  {
   "cell_type": "code",
   "execution_count": null,
   "metadata": {},
   "outputs": [],
   "source": [
    "hand = get_hand(deck=get_deck(), dealer_card=11, player_cards=[5,5])\n",
    "print_hand(hand)"
   ]
  },
  {
   "cell_type": "markdown",
   "metadata": {},
   "source": [
    "Remember that this small df technically represents every information we need about the game. The dealer will start playing after we make our moves, but since this is a pure game of chance, we can calculate the probabilities from the given df."
   ]
  },
  {
   "cell_type": "markdown",
   "metadata": {},
   "source": [
    "# The Player's Turn\n",
    "Instead of updating the hand with one card after each draw and iteratively calculating the following moves, we will instead represent all possible outcomes in a single df. We will call this form of the df a \"Game\", including the probability for each situation. "
   ]
  },
  {
   "cell_type": "code",
   "execution_count": null,
   "metadata": {},
   "outputs": [],
   "source": [
    "game = get_game()\n",
    "print_game(game)"
   ]
  },
  {
   "cell_type": "code",
   "execution_count": null,
   "metadata": {},
   "outputs": [],
   "source": [
    "game = game_dealer_first_card(game)\n",
    "print_game(game)"
   ]
  },
  {
   "cell_type": "code",
   "execution_count": null,
   "metadata": {},
   "outputs": [],
   "source": [
    "game = game_player_hit(game)\n",
    "print_game(game)"
   ]
  }
 ],
 "metadata": {
  "kernelspec": {
   "display_name": "Python 3",
   "language": "python",
   "name": "python3"
  },
  "language_info": {
   "codemirror_mode": {
    "name": "ipython",
    "version": 3
   },
   "file_extension": ".py",
   "mimetype": "text/x-python",
   "name": "python",
   "nbconvert_exporter": "python",
   "pygments_lexer": "ipython3",
   "version": "3.11.3"
  }
 },
 "nbformat": 4,
 "nbformat_minor": 2
}
