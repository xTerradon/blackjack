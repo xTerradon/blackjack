{
 "cells": [
  {
   "cell_type": "code",
   "execution_count": 1,
   "metadata": {},
   "outputs": [],
   "source": [
    "import pandas as pd\n",
    "import numpy as np\n",
    "\n",
    "import matplotlib.pyplot as plt\n",
    "from blackjack_helper import *\n",
    "\n",
    "pd.set_option('display.width', 1000)\n",
    "pd.set_option('display.max_columns', 500)\n",
    "pd.set_option('display.max_rows', 500)"
   ]
  },
  {
   "cell_type": "markdown",
   "metadata": {},
   "source": [
    "# Card Translation\n",
    "For efficient calculation, the cards will be translated to integers.\n",
    "| 2 | 3 | 4 | 5 | 6 | 7 | 8 | 9 | 10 | J | Q | K | A |\n",
    "| - | ----------|----------| ----------| ----------| ----------| ----------| ----------| ----------| ----------| ----------| ----------| ----------|\n",
    "| 2 | 3 | 4 | 5 | 6 | 7 | 8 | 9 | 10 | 10 | 10 | 10 | 11 |\n",
    "\n",
    "Every Face Card can simple be treated as 10, because they do not affect play.  \n",
    "The Ace will be treated as 11, and will be reduced to 1 if the hand value exceeds 21."
   ]
  },
  {
   "cell_type": "code",
   "execution_count": 2,
   "metadata": {},
   "outputs": [
    {
     "name": "stdout",
     "output_type": "stream",
     "text": [
      "   10   A   2   3   4   5   6   7   8   9\n",
      "0  64  16  16  16  16  16  16  16  16  16\n"
     ]
    }
   ],
   "source": [
    "deck = get_deck()\n",
    "print_deck(deck)"
   ]
  },
  {
   "cell_type": "code",
   "execution_count": 3,
   "metadata": {},
   "outputs": [
    {
     "data": {
      "image/png": "[encoded data removed]",
      "text/plain": [
       "<Figure size 500x200 with 1 Axes>"
      ]
     },
     "metadata": {},
     "output_type": "display_data"
    }
   ],
   "source": [
    "plot_deck(deck)"
   ]
  },
  {
   "cell_type": "markdown",
   "metadata": {},
   "source": [
    "# The Dealer\n",
    "The dealer has a certain set of rules, by which he has to play the game. This makes it possible to determine the probabilities of the dealer's hand based on the card distribution. To efficiently generate those probabilities, we will first determine all possible games for the dealer.\n",
    "\n",
    "To do this, we will use a numpy array, where the first column denotes the number of aces in the hand, and all other columns denote the drawn card (0 meaning no card drawn).\n",
    "After each draw, we will check if the dealer will terminate the hands, and remove them.\n",
    "There will be no probability calculation, as those depend on the card distribution."
   ]
  },
  {
   "cell_type": "code",
   "execution_count": 4,
   "metadata": {},
   "outputs": [
    {
     "data": {
      "text/html": [
       "<div>\n",
       "<style scoped>\n",
       "    .dataframe tbody tr th:only-of-type {\n",
       "        vertical-align: middle;\n",
       "    }\n",
       "\n",
       "    .dataframe tbody tr th {\n",
       "        vertical-align: top;\n",
       "    }\n",
       "\n",
       "    .dataframe thead th {\n",
       "        text-align: right;\n",
       "    }\n",
       "</style>\n",
       "<table border=\"1\" class=\"dataframe\">\n",
       "  <thead>\n",
       "    <tr style=\"text-align: right;\">\n",
       "      <th></th>\n",
       "      <th>0</th>\n",
       "      <th>17</th>\n",
       "      <th>18</th>\n",
       "      <th>19</th>\n",
       "      <th>20</th>\n",
       "      <th>21</th>\n",
       "    </tr>\n",
       "  </thead>\n",
       "  <tbody>\n",
       "    <tr>\n",
       "      <th>Count</th>\n",
       "      <td>9</td>\n",
       "      <td>2</td>\n",
       "      <td>2</td>\n",
       "      <td>2</td>\n",
       "      <td>2</td>\n",
       "      <td>2</td>\n",
       "    </tr>\n",
       "  </tbody>\n",
       "</table>\n",
       "</div>"
      ],
      "text/plain": [
       "       0   17  18  19  20  21\n",
       "Count   9   2   2   2   2   2"
      ]
     },
     "execution_count": 4,
     "metadata": {},
     "output_type": "execute_result"
    }
   ],
   "source": [
    "cards = [10,5]\n",
    "\n",
    "possibilities = get_dealer_possibilities(cards)\n",
    "# plot_dealer_possibilities(cards)\n",
    "possibilities.T"
   ]
  },
  {
   "cell_type": "markdown",
   "metadata": {},
   "source": [
    "# Dealer Score Probabilities\n",
    "Remember that those numbers represent the number of possible games leading to that score, NOT the actual probabilities of that Score occurring. In order to do this, we will need to implement the card distribution.\n",
    "\n",
    "For that we simply get all possible games for the dealer, and then calculate the probabilities of each game occuring."
   ]
  },
  {
   "cell_type": "code",
   "execution_count": 5,
   "metadata": {},
   "outputs": [
    {
     "data": {
      "text/html": [
       "<div>\n",
       "<style scoped>\n",
       "    .dataframe tbody tr th:only-of-type {\n",
       "        vertical-align: middle;\n",
       "    }\n",
       "\n",
       "    .dataframe tbody tr th {\n",
       "        vertical-align: top;\n",
       "    }\n",
       "\n",
       "    .dataframe thead th {\n",
       "        text-align: right;\n",
       "    }\n",
       "</style>\n",
       "<table border=\"1\" class=\"dataframe\">\n",
       "  <thead>\n",
       "    <tr style=\"text-align: right;\">\n",
       "      <th></th>\n",
       "      <th>Aces</th>\n",
       "      <th>1</th>\n",
       "      <th>2</th>\n",
       "      <th>3</th>\n",
       "      <th>4</th>\n",
       "      <th>Score</th>\n",
       "      <th>Probability</th>\n",
       "    </tr>\n",
       "  </thead>\n",
       "  <tbody>\n",
       "    <tr>\n",
       "      <th>0</th>\n",
       "      <td>0</td>\n",
       "      <td>10</td>\n",
       "      <td>5</td>\n",
       "      <td>10</td>\n",
       "      <td>0</td>\n",
       "      <td>0</td>\n",
       "      <td>0.007273</td>\n",
       "    </tr>\n",
       "    <tr>\n",
       "      <th>1</th>\n",
       "      <td>0</td>\n",
       "      <td>10</td>\n",
       "      <td>5</td>\n",
       "      <td>2</td>\n",
       "      <td>0</td>\n",
       "      <td>17</td>\n",
       "      <td>0.001847</td>\n",
       "    </tr>\n",
       "    <tr>\n",
       "      <th>2</th>\n",
       "      <td>0</td>\n",
       "      <td>10</td>\n",
       "      <td>5</td>\n",
       "      <td>3</td>\n",
       "      <td>0</td>\n",
       "      <td>18</td>\n",
       "      <td>0.001847</td>\n",
       "    </tr>\n",
       "  </tbody>\n",
       "</table>\n",
       "</div>"
      ],
      "text/plain": [
       "   Aces   1  2   3  4  Score Probability\n",
       "0     0  10  5  10  0      0    0.007273\n",
       "1     0  10  5   2  0     17    0.001847\n",
       "2     0  10  5   3  0     18    0.001847"
      ]
     },
     "execution_count": 5,
     "metadata": {},
     "output_type": "execute_result"
    }
   ],
   "source": [
    "cards = [10,5]\n",
    "deck = get_deck()\n",
    "\n",
    "possible_hands_prob = get_dealer_hand_probabilities(cards, deck)\n",
    "possible_hands_prob.sort_values(\"Probability\", ascending=False)[:3]"
   ]
  },
  {
   "cell_type": "code",
   "execution_count": 6,
   "metadata": {},
   "outputs": [
    {
     "data": {
      "text/html": [
       "<div>\n",
       "<style scoped>\n",
       "    .dataframe tbody tr th:only-of-type {\n",
       "        vertical-align: middle;\n",
       "    }\n",
       "\n",
       "    .dataframe tbody tr th {\n",
       "        vertical-align: top;\n",
       "    }\n",
       "\n",
       "    .dataframe thead th {\n",
       "        text-align: right;\n",
       "    }\n",
       "</style>\n",
       "<table border=\"1\" class=\"dataframe\">\n",
       "  <thead>\n",
       "    <tr style=\"text-align: right;\">\n",
       "      <th>Score</th>\n",
       "      <th>0</th>\n",
       "      <th>17</th>\n",
       "      <th>18</th>\n",
       "      <th>19</th>\n",
       "      <th>20</th>\n",
       "      <th>21</th>\n",
       "    </tr>\n",
       "  </thead>\n",
       "  <tbody>\n",
       "    <tr>\n",
       "      <th>Probability</th>\n",
       "      <td>0.013959</td>\n",
       "      <td>0.001982</td>\n",
       "      <td>0.001991</td>\n",
       "      <td>0.001991</td>\n",
       "      <td>0.001876</td>\n",
       "      <td>0.001982</td>\n",
       "    </tr>\n",
       "  </tbody>\n",
       "</table>\n",
       "</div>"
      ],
      "text/plain": [
       "Score              0         17        18        19        20        21\n",
       "Probability  0.013959  0.001982  0.001991  0.001991  0.001876  0.001982"
      ]
     },
     "execution_count": 6,
     "metadata": {},
     "output_type": "execute_result"
    },
    {
     "data": {
      "image/png": "[encoded data removed]",
      "text/plain": [
       "<Figure size 1200x400 with 2 Axes>"
      ]
     },
     "metadata": {},
     "output_type": "display_data"
    }
   ],
   "source": [
    "dealer_score_probabilities = get_dealer_score_probabilities(cards, deck)\n",
    "plot_dealer_score_probabilities(cards, deck)\n",
    "dealer_score_probabilities.T"
   ]
  },
  {
   "cell_type": "markdown",
   "metadata": {},
   "source": [
    "In order to see how the probabilities change with a different deck, we will simulate another deck with less 10s."
   ]
  },
  {
   "cell_type": "code",
   "execution_count": 7,
   "metadata": {},
   "outputs": [
    {
     "data": {
      "image/png": "[encoded data removed]",
      "text/plain": [
       "<Figure size 1200x400 with 2 Axes>"
      ]
     },
     "metadata": {},
     "output_type": "display_data"
    }
   ],
   "source": [
    "deck = get_deck()\n",
    "deck[0] /= 2 # half the amount of 10s\n",
    "plot_dealer_score_probabilities(cards, deck)"
   ]
  },
  {
   "cell_type": "markdown",
   "metadata": {},
   "source": [
    "# The Hands\n",
    "In order to calculate the best moves for a player, we will have to implement the different choices that the player can make. Let's first clarify how a game can be represented.\n",
    "\n",
    "Before the player's turn starts, the dealer gets one face up and one face down card. The face-up card gives us information we have to consider when asessing the best moves.\n",
    "\n",
    "Each game has to include the following information:\n",
    "- The Deck\n",
    "- The Dealer's Face-Up Card\n",
    "- The Player's drawn cards\n",
    "The Player's drawn cards will be represented by its score and the number of unused aces. We will call this object a \"Hand\"."
   ]
  },
  {
   "cell_type": "code",
   "execution_count": 8,
   "metadata": {},
   "outputs": [
    {
     "name": "stdout",
     "output_type": "stream",
     "text": [
      "   P_S  P_A  D_S  10   A   2   3   4   5   6   7   8   9\n",
      "0    0    0    0  64  16  16  16  16  16  16  16  16  16\n"
     ]
    }
   ],
   "source": [
    "hand = get_hand()\n",
    "print_hand(hand)"
   ]
  },
  {
   "cell_type": "code",
   "execution_count": 9,
   "metadata": {},
   "outputs": [
    {
     "name": "stdout",
     "output_type": "stream",
     "text": [
      "   P_S  P_A  D_S  10   A   2   3   4   5   6   7   8   9\n",
      "0   10    0   11  64  15  16  16  16  14  16  16  16  16\n"
     ]
    }
   ],
   "source": [
    "hand = get_hand(deck=get_deck(), dealer_card=11, player_cards=[5,5])\n",
    "print_hand(hand)"
   ]
  },
  {
   "cell_type": "markdown",
   "metadata": {},
   "source": [
    "Remember that this small df technically represents every information we need about the game. The dealer will start playing after we make our moves, but since this is a pure game of chance, we can calculate the probabilities from the given df."
   ]
  },
  {
   "cell_type": "markdown",
   "metadata": {},
   "source": [
    "# The Player's Turn\n",
    "Instead of updating the hand with one card after each draw and iteratively calculating the following moves, we will instead represent all possible outcomes in a single df. We will call this form of the df a \"Game\", including the probability for each situation. "
   ]
  },
  {
   "cell_type": "code",
   "execution_count": 10,
   "metadata": {},
   "outputs": [
    {
     "name": "stdout",
     "output_type": "stream",
     "text": [
      "   Prob  P_S  P_A  D_S  10   A   2   3   4   5   6   7   8   9\n",
      "0   1.0    0    0    0  64  16  16  16  16  16  16  16  16  16\n"
     ]
    }
   ],
   "source": [
    "game = get_game()\n",
    "print_game(game)"
   ]
  },
  {
   "cell_type": "code",
   "execution_count": 11,
   "metadata": {},
   "outputs": [
    {
     "name": "stdout",
     "output_type": "stream",
     "text": [
      "   Prob  P_S  P_A  D_S  10   A   2   3   4   5   6   7   8   9\n",
      "0   1.0    0    0    9  64  16  16  16  16  16  16  16  16  15\n"
     ]
    }
   ],
   "source": [
    "game = game_dealer_first_card(game, card=9)\n",
    "print_game(game)"
   ]
  },
  {
   "cell_type": "code",
   "execution_count": 12,
   "metadata": {},
   "outputs": [
    {
     "name": "stdout",
     "output_type": "stream",
     "text": [
      "   Prob  P_S  P_A  D_S  10   A   2   3   4   5   6   7   8   9  R1\n",
      "0   1.0    9    0    9  64  16  16  16  16  16  16  16  16  14   1\n"
     ]
    }
   ],
   "source": [
    "game = game_player_hit(game, card=9)\n",
    "print_game(game)"
   ]
  },
  {
   "cell_type": "code",
   "execution_count": 13,
   "metadata": {},
   "outputs": [
    {
     "name": "stdout",
     "output_type": "stream",
     "text": [
      "        Prob  P_S  P_A  D_S  10   A   2   3   4   5   6   7   8   9  R1  R2\n",
      "0   1.000000    9    0    9  64  16  16  16  16  16  16  16  16  14   1   0\n",
      "1   0.310680   19    0    9  63  16  16  16  16  16  16  16  16  14   1   1\n",
      "2   0.077670   20    1    9  64  15  16  16  16  16  16  16  16  14   1   1\n",
      "3   0.077670   11    0    9  64  16  15  16  16  16  16  16  16  14   1   1\n",
      "4   0.077670   12    0    9  64  16  16  15  16  16  16  16  16  14   1   1\n",
      "5   0.077670   13    0    9  64  16  16  16  15  16  16  16  16  14   1   1\n",
      "6   0.077670   14    0    9  64  16  16  16  16  15  16  16  16  14   1   1\n",
      "7   0.077670   15    0    9  64  16  16  16  16  16  15  16  16  14   1   1\n",
      "8   0.077670   16    0    9  64  16  16  16  16  16  16  15  16  14   1   1\n",
      "9   0.077670   17    0    9  64  16  16  16  16  16  16  16  15  14   1   1\n",
      "10  0.067961   18    0    9  64  16  16  16  16  16  16  16  16  13   1   1\n"
     ]
    }
   ],
   "source": [
    "game = game_player_hit(game)\n",
    "print_game(game)"
   ]
  },
  {
   "cell_type": "code",
   "execution_count": 14,
   "metadata": {},
   "outputs": [
    {
     "data": {
      "text/plain": [
       "1.9999999999999996"
      ]
     },
     "execution_count": 14,
     "metadata": {},
     "output_type": "execute_result"
    }
   ],
   "source": [
    "get_game_df(game)[\"Prob\"].sum()"
   ]
  },
  {
   "cell_type": "code",
   "execution_count": 18,
   "metadata": {},
   "outputs": [
    {
     "data": {
      "text/html": [
       "<div>\n",
       "<style scoped>\n",
       "    .dataframe tbody tr th:only-of-type {\n",
       "        vertical-align: middle;\n",
       "    }\n",
       "\n",
       "    .dataframe tbody tr th {\n",
       "        vertical-align: top;\n",
       "    }\n",
       "\n",
       "    .dataframe thead th {\n",
       "        text-align: right;\n",
       "    }\n",
       "</style>\n",
       "<table border=\"1\" class=\"dataframe\">\n",
       "  <thead>\n",
       "    <tr style=\"text-align: right;\">\n",
       "      <th>P_S</th>\n",
       "      <th>20</th>\n",
       "      <th>19</th>\n",
       "      <th>18</th>\n",
       "      <th>17</th>\n",
       "      <th>16</th>\n",
       "      <th>15</th>\n",
       "    </tr>\n",
       "  </thead>\n",
       "  <tbody>\n",
       "    <tr>\n",
       "      <th>Probability</th>\n",
       "      <td>0.07767</td>\n",
       "      <td>0.31068</td>\n",
       "      <td>0.067961</td>\n",
       "      <td>0.07767</td>\n",
       "      <td>0.07767</td>\n",
       "      <td>0.07767</td>\n",
       "    </tr>\n",
       "  </tbody>\n",
       "</table>\n",
       "</div>"
      ],
      "text/plain": [
       "P_S               20       19        18       17       16       15\n",
       "Probability  0.07767  0.31068  0.067961  0.07767  0.07767  0.07767"
      ]
     },
     "execution_count": 18,
     "metadata": {},
     "output_type": "execute_result"
    }
   ],
   "source": [
    "score_probs = get_game_df(game).groupby('P_S')['Prob'].sum()\n",
    "if 0 not in score_probs.index:\n",
    "    score_probs[0] = 0\n",
    "score_probs[0] += score_probs.iloc[21:].sum()\n",
    "score_probs = score_probs[:21]\n",
    "pd.DataFrame({\"Probability\":score_probs}).sort_index(ascending=False)[:6].T"
   ]
  },
  {
   "cell_type": "code",
   "execution_count": 19,
   "metadata": {},
   "outputs": [
    {
     "data": {
      "text/plain": [
       "<BarContainer object of 12 artists>"
      ]
     },
     "execution_count": 19,
     "metadata": {},
     "output_type": "execute_result"
    },
    {
     "data": {
      "image/png": "[encoded data removed]",
      "text/plain": [
       "<Figure size 640x480 with 1 Axes>"
      ]
     },
     "metadata": {},
     "output_type": "display_data"
    }
   ],
   "source": [
    "colors = ['gray' if val < 17 and val > 0 else COLORS[val] for val in list(score_probs.index)]\n",
    "plt.bar(x=list(score_probs.index), height=score_probs.values, tick_label=list(score_probs.index), align='center', color=colors)"
   ]
  },
  {
   "cell_type": "code",
   "execution_count": 22,
   "metadata": {},
   "outputs": [
    {
     "name": "stdout",
     "output_type": "stream",
     "text": [
      "   Prob  P_S  P_A  D_S  10   A   2   3   4   5   6   7   8   9  R1  R2\n",
      "0   1.0    9    0    9  64  16  16  16  16  16  16  16  16  14   1   0\n"
     ]
    }
   ],
   "source": [
    "print_game(game[0:1,:])"
   ]
  },
  {
   "cell_type": "code",
   "execution_count": 23,
   "metadata": {},
   "outputs": [
    {
     "data": {
      "text/html": [
       "<div>\n",
       "<style scoped>\n",
       "    .dataframe tbody tr th:only-of-type {\n",
       "        vertical-align: middle;\n",
       "    }\n",
       "\n",
       "    .dataframe tbody tr th {\n",
       "        vertical-align: top;\n",
       "    }\n",
       "\n",
       "    .dataframe thead th {\n",
       "        text-align: right;\n",
       "    }\n",
       "</style>\n",
       "<table border=\"1\" class=\"dataframe\">\n",
       "  <thead>\n",
       "    <tr style=\"text-align: right;\">\n",
       "      <th></th>\n",
       "      <th>Win</th>\n",
       "      <th>Lose</th>\n",
       "      <th>Draw</th>\n",
       "    </tr>\n",
       "  </thead>\n",
       "  <tbody>\n",
       "    <tr>\n",
       "      <th>0</th>\n",
       "      <td>0.015682</td>\n",
       "      <td>0.052279</td>\n",
       "      <td>0</td>\n",
       "    </tr>\n",
       "  </tbody>\n",
       "</table>\n",
       "</div>"
      ],
      "text/plain": [
       "        Win      Lose  Draw\n",
       "0  0.015682  0.052279     0"
      ]
     },
     "execution_count": 23,
     "metadata": {},
     "output_type": "execute_result"
    }
   ],
   "source": [
    "s = get_win_lose_prob(game[0:1,:])\n",
    "s"
   ]
  },
  {
   "cell_type": "code",
   "execution_count": 26,
   "metadata": {},
   "outputs": [
    {
     "data": {
      "text/html": [
       "<div>\n",
       "<style scoped>\n",
       "    .dataframe tbody tr th:only-of-type {\n",
       "        vertical-align: middle;\n",
       "    }\n",
       "\n",
       "    .dataframe tbody tr th {\n",
       "        vertical-align: top;\n",
       "    }\n",
       "\n",
       "    .dataframe thead th {\n",
       "        text-align: right;\n",
       "    }\n",
       "</style>\n",
       "<table border=\"1\" class=\"dataframe\">\n",
       "  <thead>\n",
       "    <tr style=\"text-align: right;\">\n",
       "      <th></th>\n",
       "      <th>Probability</th>\n",
       "    </tr>\n",
       "    <tr>\n",
       "      <th>Score</th>\n",
       "      <th></th>\n",
       "    </tr>\n",
       "  </thead>\n",
       "  <tbody>\n",
       "    <tr>\n",
       "      <th>0</th>\n",
       "      <td>0.015682</td>\n",
       "    </tr>\n",
       "    <tr>\n",
       "      <th>17</th>\n",
       "      <td>0.008302</td>\n",
       "    </tr>\n",
       "    <tr>\n",
       "      <th>18</th>\n",
       "      <td>0.007334</td>\n",
       "    </tr>\n",
       "    <tr>\n",
       "      <th>19</th>\n",
       "      <td>0.024218</td>\n",
       "    </tr>\n",
       "    <tr>\n",
       "      <th>20</th>\n",
       "      <td>0.008256</td>\n",
       "    </tr>\n",
       "    <tr>\n",
       "      <th>21</th>\n",
       "      <td>0.00417</td>\n",
       "    </tr>\n",
       "  </tbody>\n",
       "</table>\n",
       "</div>"
      ],
      "text/plain": [
       "      Probability\n",
       "Score            \n",
       "0        0.015682\n",
       "17       0.008302\n",
       "18       0.007334\n",
       "19       0.024218\n",
       "20       0.008256\n",
       "21        0.00417"
      ]
     },
     "execution_count": 26,
     "metadata": {},
     "output_type": "execute_result"
    }
   ],
   "source": [
    "dealer_card = list(game[0,3:4])\n",
    "deck = game[0,4:14]\n",
    "\n",
    "player_score = game[0,1]\n",
    "\n",
    "scores_prob = get_dealer_score_probabilities(dealer_card, deck)\n",
    "scores_prob"
   ]
  },
  {
   "cell_type": "code",
   "execution_count": 30,
   "metadata": {},
   "outputs": [
    {
     "data": {
      "text/html": [
       "<div>\n",
       "<style scoped>\n",
       "    .dataframe tbody tr th:only-of-type {\n",
       "        vertical-align: middle;\n",
       "    }\n",
       "\n",
       "    .dataframe tbody tr th {\n",
       "        vertical-align: top;\n",
       "    }\n",
       "\n",
       "    .dataframe thead th {\n",
       "        text-align: right;\n",
       "    }\n",
       "</style>\n",
       "<table border=\"1\" class=\"dataframe\">\n",
       "  <thead>\n",
       "    <tr style=\"text-align: right;\">\n",
       "      <th></th>\n",
       "      <th>Aces</th>\n",
       "      <th>1</th>\n",
       "      <th>2</th>\n",
       "      <th>3</th>\n",
       "      <th>4</th>\n",
       "      <th>5</th>\n",
       "      <th>6</th>\n",
       "      <th>7</th>\n",
       "      <th>8</th>\n",
       "      <th>Score</th>\n",
       "      <th>Probability</th>\n",
       "    </tr>\n",
       "  </thead>\n",
       "  <tbody>\n",
       "    <tr>\n",
       "      <th>0</th>\n",
       "      <td>0</td>\n",
       "      <td>9</td>\n",
       "      <td>10</td>\n",
       "      <td>0</td>\n",
       "      <td>0</td>\n",
       "      <td>0</td>\n",
       "      <td>0</td>\n",
       "      <td>0</td>\n",
       "      <td>0</td>\n",
       "      <td>19</td>\n",
       "      <td>0.021217</td>\n",
       "    </tr>\n",
       "    <tr>\n",
       "      <th>1</th>\n",
       "      <td>1</td>\n",
       "      <td>9</td>\n",
       "      <td>11</td>\n",
       "      <td>0</td>\n",
       "      <td>0</td>\n",
       "      <td>0</td>\n",
       "      <td>0</td>\n",
       "      <td>0</td>\n",
       "      <td>0</td>\n",
       "      <td>20</td>\n",
       "      <td>0.005304</td>\n",
       "    </tr>\n",
       "    <tr>\n",
       "      <th>2</th>\n",
       "      <td>0</td>\n",
       "      <td>9</td>\n",
       "      <td>8</td>\n",
       "      <td>0</td>\n",
       "      <td>0</td>\n",
       "      <td>0</td>\n",
       "      <td>0</td>\n",
       "      <td>0</td>\n",
       "      <td>0</td>\n",
       "      <td>17</td>\n",
       "      <td>0.005304</td>\n",
       "    </tr>\n",
       "    <tr>\n",
       "      <th>3</th>\n",
       "      <td>0</td>\n",
       "      <td>9</td>\n",
       "      <td>9</td>\n",
       "      <td>0</td>\n",
       "      <td>0</td>\n",
       "      <td>0</td>\n",
       "      <td>0</td>\n",
       "      <td>0</td>\n",
       "      <td>0</td>\n",
       "      <td>18</td>\n",
       "      <td>0.00431</td>\n",
       "    </tr>\n",
       "    <tr>\n",
       "      <th>4</th>\n",
       "      <td>0</td>\n",
       "      <td>9</td>\n",
       "      <td>2</td>\n",
       "      <td>10</td>\n",
       "      <td>0</td>\n",
       "      <td>0</td>\n",
       "      <td>0</td>\n",
       "      <td>0</td>\n",
       "      <td>0</td>\n",
       "      <td>21</td>\n",
       "      <td>0.001664</td>\n",
       "    </tr>\n",
       "    <tr>\n",
       "      <th>...</th>\n",
       "      <td>...</td>\n",
       "      <td>...</td>\n",
       "      <td>...</td>\n",
       "      <td>...</td>\n",
       "      <td>...</td>\n",
       "      <td>...</td>\n",
       "      <td>...</td>\n",
       "      <td>...</td>\n",
       "      <td>...</td>\n",
       "      <td>...</td>\n",
       "      <td>...</td>\n",
       "    </tr>\n",
       "    <tr>\n",
       "      <th>572</th>\n",
       "      <td>5</td>\n",
       "      <td>9</td>\n",
       "      <td>2</td>\n",
       "      <td>11</td>\n",
       "      <td>11</td>\n",
       "      <td>11</td>\n",
       "      <td>11</td>\n",
       "      <td>11</td>\n",
       "      <td>5</td>\n",
       "      <td>21</td>\n",
       "      <td>0.0</td>\n",
       "    </tr>\n",
       "    <tr>\n",
       "      <th>573</th>\n",
       "      <td>5</td>\n",
       "      <td>9</td>\n",
       "      <td>2</td>\n",
       "      <td>11</td>\n",
       "      <td>11</td>\n",
       "      <td>11</td>\n",
       "      <td>11</td>\n",
       "      <td>11</td>\n",
       "      <td>6</td>\n",
       "      <td>0</td>\n",
       "      <td>0.0</td>\n",
       "    </tr>\n",
       "    <tr>\n",
       "      <th>574</th>\n",
       "      <td>5</td>\n",
       "      <td>9</td>\n",
       "      <td>2</td>\n",
       "      <td>11</td>\n",
       "      <td>11</td>\n",
       "      <td>11</td>\n",
       "      <td>11</td>\n",
       "      <td>11</td>\n",
       "      <td>7</td>\n",
       "      <td>0</td>\n",
       "      <td>0.0</td>\n",
       "    </tr>\n",
       "    <tr>\n",
       "      <th>575</th>\n",
       "      <td>5</td>\n",
       "      <td>9</td>\n",
       "      <td>2</td>\n",
       "      <td>11</td>\n",
       "      <td>11</td>\n",
       "      <td>11</td>\n",
       "      <td>11</td>\n",
       "      <td>11</td>\n",
       "      <td>8</td>\n",
       "      <td>0</td>\n",
       "      <td>0.0</td>\n",
       "    </tr>\n",
       "    <tr>\n",
       "      <th>576</th>\n",
       "      <td>5</td>\n",
       "      <td>9</td>\n",
       "      <td>2</td>\n",
       "      <td>11</td>\n",
       "      <td>11</td>\n",
       "      <td>11</td>\n",
       "      <td>11</td>\n",
       "      <td>11</td>\n",
       "      <td>9</td>\n",
       "      <td>0</td>\n",
       "      <td>0.0</td>\n",
       "    </tr>\n",
       "  </tbody>\n",
       "</table>\n",
       "<p>577 rows × 11 columns</p>\n",
       "</div>"
      ],
      "text/plain": [
       "     Aces  1   2   3   4   5   6   7  8  Score Probability\n",
       "0       0  9  10   0   0   0   0   0  0     19    0.021217\n",
       "1       1  9  11   0   0   0   0   0  0     20    0.005304\n",
       "2       0  9   8   0   0   0   0   0  0     17    0.005304\n",
       "3       0  9   9   0   0   0   0   0  0     18     0.00431\n",
       "4       0  9   2  10   0   0   0   0  0     21    0.001664\n",
       "..    ... ..  ..  ..  ..  ..  ..  .. ..    ...         ...\n",
       "572     5  9   2  11  11  11  11  11  5     21         0.0\n",
       "573     5  9   2  11  11  11  11  11  6      0         0.0\n",
       "574     5  9   2  11  11  11  11  11  7      0         0.0\n",
       "575     5  9   2  11  11  11  11  11  8      0         0.0\n",
       "576     5  9   2  11  11  11  11  11  9      0         0.0\n",
       "\n",
       "[577 rows x 11 columns]"
      ]
     },
     "execution_count": 30,
     "metadata": {},
     "output_type": "execute_result"
    }
   ],
   "source": [
    "get_dealer_hand_probabilities(dealer_card, deck)"
   ]
  }
 ],
 "metadata": {
  "kernelspec": {
   "display_name": "Python 3",
   "language": "python",
   "name": "python3"
  },
  "language_info": {
   "codemirror_mode": {
    "name": "ipython",
    "version": 3
   },
   "file_extension": ".py",
   "mimetype": "text/x-python",
   "name": "python",
   "nbconvert_exporter": "python",
   "pygments_lexer": "ipython3",
   "version": "3.11.3"
  }
 },
 "nbformat": 4,
 "nbformat_minor": 2
}
